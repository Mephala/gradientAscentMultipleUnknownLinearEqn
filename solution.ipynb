{
 "cells": [
  {
   "cell_type": "code",
   "execution_count": 1,
   "metadata": {
    "collapsed": true
   },
   "outputs": [],
   "source": [
    "import numpy as np\n",
    "\n",
    "%matplotlib inline\n",
    "from __future__ import print_function\n",
    "from ipywidgets import interact, interactive, fixed\n",
    "import ipywidgets as widgets\n",
    "import matplotlib.pylab as plt\n",
    "from IPython.display import clear_output, display, HTML\n",
    "import scipy as sc\n",
    "import numpy as np\n",
    "import pandas as pd\n",
    "import matplotlib as mpl\n",
    "import matplotlib.pylab as plt"
   ]
  },
  {
   "cell_type": "code",
   "execution_count": 2,
   "metadata": {
    "collapsed": false
   },
   "outputs": [
    {
     "data": {
      "text/plain": [
       "matrix([[ 4],\n",
       "        [ 8],\n",
       "        [16],\n",
       "        [32]])"
      ]
     },
     "execution_count": 2,
     "metadata": {},
     "output_type": "execute_result"
    }
   ],
   "source": [
    "y = np.matrix('4; 8; 16; 32')\n",
    "y"
   ]
  },
  {
   "cell_type": "code",
   "execution_count": 3,
   "metadata": {
    "collapsed": false
   },
   "outputs": [
    {
     "data": {
      "text/plain": [
       "matrix([[ 2],\n",
       "        [ 4],\n",
       "        [ 8],\n",
       "        [16]])"
      ]
     },
     "execution_count": 3,
     "metadata": {},
     "output_type": "execute_result"
    }
   ],
   "source": [
    "A = np.matrix('2; 4; 8; 16')\n",
    "A"
   ]
  },
  {
   "cell_type": "code",
   "execution_count": 4,
   "metadata": {
    "collapsed": false
   },
   "outputs": [
    {
     "data": {
      "text/plain": [
       "matrix([[ 2,  4,  8, 16]])"
      ]
     },
     "execution_count": 4,
     "metadata": {},
     "output_type": "execute_result"
    }
   ],
   "source": [
    "A.T"
   ]
  },
  {
   "cell_type": "code",
   "execution_count": 5,
   "metadata": {
    "collapsed": false
   },
   "outputs": [],
   "source": [
    "k = np.linalg.inv(A.T.dot(A))"
   ]
  },
  {
   "cell_type": "code",
   "execution_count": 6,
   "metadata": {
    "collapsed": false
   },
   "outputs": [
    {
     "data": {
      "text/plain": [
       "matrix([[ 0.00294118]])"
      ]
     },
     "execution_count": 6,
     "metadata": {},
     "output_type": "execute_result"
    }
   ],
   "source": [
    "k"
   ]
  },
  {
   "cell_type": "code",
   "execution_count": 7,
   "metadata": {
    "collapsed": false
   },
   "outputs": [
    {
     "data": {
      "text/plain": [
       "matrix([[ 2,  4,  8, 16]])"
      ]
     },
     "execution_count": 7,
     "metadata": {},
     "output_type": "execute_result"
    }
   ],
   "source": [
    "A.T"
   ]
  },
  {
   "cell_type": "code",
   "execution_count": 8,
   "metadata": {
    "collapsed": false
   },
   "outputs": [
    {
     "data": {
      "text/plain": [
       "matrix([[ 4],\n",
       "        [ 8],\n",
       "        [16],\n",
       "        [32]])"
      ]
     },
     "execution_count": 8,
     "metadata": {},
     "output_type": "execute_result"
    }
   ],
   "source": [
    "y"
   ]
  },
  {
   "cell_type": "code",
   "execution_count": 9,
   "metadata": {
    "collapsed": false
   },
   "outputs": [
    {
     "data": {
      "text/plain": [
       "matrix([[ 2,  4,  8, 16]])"
      ]
     },
     "execution_count": 9,
     "metadata": {},
     "output_type": "execute_result"
    }
   ],
   "source": [
    "A.T"
   ]
  },
  {
   "cell_type": "code",
   "execution_count": 10,
   "metadata": {
    "collapsed": false
   },
   "outputs": [
    {
     "data": {
      "text/plain": [
       "matrix([[ 4],\n",
       "        [ 8],\n",
       "        [16],\n",
       "        [32]])"
      ]
     },
     "execution_count": 10,
     "metadata": {},
     "output_type": "execute_result"
    }
   ],
   "source": [
    "y"
   ]
  },
  {
   "cell_type": "code",
   "execution_count": 11,
   "metadata": {
    "collapsed": false
   },
   "outputs": [
    {
     "data": {
      "text/plain": [
       "matrix([[680]])"
      ]
     },
     "execution_count": 11,
     "metadata": {},
     "output_type": "execute_result"
    }
   ],
   "source": [
    "A.T.dot(y)"
   ]
  },
  {
   "cell_type": "code",
   "execution_count": 12,
   "metadata": {
    "collapsed": true
   },
   "outputs": [],
   "source": [
    "l = A.T.dot(y)"
   ]
  },
  {
   "cell_type": "code",
   "execution_count": 13,
   "metadata": {
    "collapsed": true
   },
   "outputs": [],
   "source": [
    "w_ = k.dot(l)"
   ]
  },
  {
   "cell_type": "code",
   "execution_count": 14,
   "metadata": {
    "collapsed": false
   },
   "outputs": [
    {
     "data": {
      "text/plain": [
       "matrix([[ 2.]])"
      ]
     },
     "execution_count": 14,
     "metadata": {},
     "output_type": "execute_result"
    }
   ],
   "source": [
    "w_"
   ]
  },
  {
   "cell_type": "markdown",
   "metadata": {},
   "source": [
    "## 3 bilinmeyen"
   ]
  },
  {
   "cell_type": "code",
   "execution_count": 15,
   "metadata": {
    "collapsed": false
   },
   "outputs": [
    {
     "data": {
      "text/plain": [
       "matrix([[ 1,  2,  1],\n",
       "        [ 3,  1,  1],\n",
       "        [ 4, 12,  3],\n",
       "        [ 9, 36, 40],\n",
       "        [11,  8,  8]])"
      ]
     },
     "execution_count": 15,
     "metadata": {},
     "output_type": "execute_result"
    }
   ],
   "source": [
    "y = np.matrix('4; 15; 28; 39; 47')\n",
    "A = np.matrix('1 2 1; 3 1 1; 4 12 3; 9 36 40; 11 8 8')\n",
    "A"
   ]
  },
  {
   "cell_type": "code",
   "execution_count": 16,
   "metadata": {
    "collapsed": true
   },
   "outputs": [],
   "source": [
    "k = np.linalg.inv(A.T.dot(A))\n",
    "l = A.T.dot(y)"
   ]
  },
  {
   "cell_type": "code",
   "execution_count": 17,
   "metadata": {
    "collapsed": false
   },
   "outputs": [
    {
     "data": {
      "text/plain": [
       "matrix([[ 4.22736898],\n",
       "        [ 1.16304719],\n",
       "        [-1.025123  ]])"
      ]
     },
     "execution_count": 17,
     "metadata": {},
     "output_type": "execute_result"
    }
   ],
   "source": [
    "w_ = k.dot(l)\n",
    "w_"
   ]
  },
  {
   "cell_type": "code",
   "execution_count": 18,
   "metadata": {
    "collapsed": false
   },
   "outputs": [
    {
     "data": {
      "text/plain": [
       "matrix([[ 5.52834036]])"
      ]
     },
     "execution_count": 18,
     "metadata": {},
     "output_type": "execute_result"
    }
   ],
   "source": [
    "np.matrix('1 2 1').dot(w_)"
   ]
  },
  {
   "cell_type": "markdown",
   "metadata": {},
   "source": [
    "Dersteki Problem:\n",
    "\n",
    "\\begin{eqnarray}\n",
    "\\left(\n",
    "\\begin{array}{c}\n",
    "2 \\\\ y_3 \\\\ 4 \\\\ 5 \\\\7 \n",
    "\\end{array}\n",
    "\\right)\n",
    "\\approx\n",
    "\\left(\n",
    "\\begin{array}{cc}\n",
    "1 & y_0 \\\\ 2 & 1 \\\\ y_3 & 2 \\\\ 4 & y_3 \\\\ 5 & 4  \n",
    "\\end{array}\n",
    "\\right) \n",
    "\\left(\n",
    "\\begin{array}{c}\n",
    " w_1 \\\\ w_2  \n",
    "\\end{array}\n",
    "\\right)\n",
    "\\end{eqnarray}"
   ]
  },
  {
   "cell_type": "code",
   "execution_count": 19,
   "metadata": {
    "collapsed": false
   },
   "outputs": [
    {
     "name": "stdout",
     "output_type": "stream",
     "text": [
      "[[2]\n",
      " [3]\n",
      " [4]\n",
      " [5]\n",
      " [7]]\n",
      "[[1 1]\n",
      " [2 1]\n",
      " [3 2]\n",
      " [4 3]\n",
      " [5 4]]\n",
      "[[5]\n",
      " [7]]\n"
     ]
    }
   ],
   "source": [
    "# Arbitrary values to start gradient decent.\n",
    "y_0 = 1\n",
    "y_3 = 3\n",
    "w_1 = 5\n",
    "w_2 = 7\n",
    "\n",
    "#eta value\n",
    "eta = 0.0006765\n",
    "\n",
    "#gradient ascend limit\n",
    "limit = 40000\n",
    "\n",
    "#Defining functions to create matrix out of the currently changed variables\n",
    "def create_y():\n",
    "    return np.matrix('2; %s; 4; 5; 7' %(y_3))\n",
    "\n",
    "def create_A():\n",
    "    return np.matrix('1 %s; 2 1; %s 2; 4 %s; 5 4' %(y_0,y_3, y_3))\n",
    "def create_w():\n",
    "    return np.matrix('%s; %s' %(w_1,w_2))\n",
    "\n",
    "y = create_y()\n",
    "A = create_A()\n",
    "w = create_w()\n",
    "print(y)\n",
    "print(A)\n",
    "print(w)"
   ]
  },
  {
   "cell_type": "code",
   "execution_count": 20,
   "metadata": {
    "collapsed": false
   },
   "outputs": [
    {
     "data": {
      "text/plain": [
       "matrix([[-10],\n",
       "        [-14],\n",
       "        [-25],\n",
       "        [-36],\n",
       "        [-46]])"
      ]
     },
     "execution_count": 20,
     "metadata": {},
     "output_type": "execute_result"
    }
   ],
   "source": [
    "#Creating error matrix based on the current values\n",
    "def create_error_matrix():\n",
    "    y1 = create_y()\n",
    "    A1 = create_A()\n",
    "    w1 = create_w()\n",
    "    return y1-(A1*w1)\n",
    "e = create_error_matrix()\n",
    "e"
   ]
  },
  {
   "cell_type": "code",
   "execution_count": 21,
   "metadata": {
    "collapsed": false
   },
   "outputs": [
    {
     "data": {
      "text/plain": [
       "matrix([[4333]])"
      ]
     },
     "execution_count": 21,
     "metadata": {},
     "output_type": "execute_result"
    }
   ],
   "source": [
    "#Creating scalar value using error squares to identify error for gradient descend\n",
    "def current_error():\n",
    "    e1 = create_error_matrix()\n",
    "    return e1.T*e1\n",
    "current_error()"
   ]
  },
  {
   "cell_type": "markdown",
   "metadata": {},
   "source": [
    "\\begin{eqnarray}\n",
    "0 & = & - A^\\top y + A^\\top A w^*  \\\\\n",
    "A^\\top y & = &  A^\\top A w^* \\\\\n",
    "w^* & = & (A^\\top A)^{-1} A^\\top y \n",
    "\\end{eqnarray}"
   ]
  },
  {
   "cell_type": "code",
   "execution_count": 22,
   "metadata": {
    "collapsed": false
   },
   "outputs": [
    {
     "data": {
      "text/plain": [
       "matrix([[ 1.20833333],\n",
       "        [ 0.20833333]])"
      ]
     },
     "execution_count": 22,
     "metadata": {},
     "output_type": "execute_result"
    }
   ],
   "source": [
    "# Defining function to calculating w1 and w2 given the y0 and y3 values are optimal; using formula above ( minimizing error matrix using least squares approach)\n",
    "def calculate_current_optimal_solution_matrix():\n",
    "    y1 = create_y()\n",
    "    A1 = create_A()\n",
    "    k = np.linalg.inv(A1.T.dot(A1))\n",
    "    l = A1.T.dot(y1)\n",
    "    return k.dot(l)\n",
    "   \n",
    "calculate_current_optimal_solution_matrix()"
   ]
  },
  {
   "cell_type": "code",
   "execution_count": 23,
   "metadata": {
    "collapsed": false
   },
   "outputs": [
    {
     "name": "stdout",
     "output_type": "stream",
     "text": [
      "Error before staring [[4333]]\n",
      "Current error: [[ 196.75167739]]\n",
      "Best error: [[ 196.75167225]]\n",
      "Found values after  40000  iterations:\n",
      "y0 =  -3.862681999999838\n",
      "y3 =  -1.8626819999998376\n",
      "w1 =  0.13731800000019914\n",
      "w2 =  2.1373180000002243\n",
      "Best values for equation:\n",
      "y0 =  -3.862005499999838\n",
      "y3 =  -1.8620054999998377\n",
      "w1 =  0.13799450000019914\n",
      "w2 =  2.1379945000002243\n"
     ]
    }
   ],
   "source": [
    "print('Error before staring', current_error())\n",
    "current_trend = 0 # 0 for decrease, 1 for increase. If current trend is decreasing then I subtract eta from unknown variables.\n",
    "best_error = current_error()\n",
    "best_y_0 = y_0\n",
    "best_y_3 = y_3\n",
    "best_w_1 = w_1\n",
    "best_w_2 = w_2\n",
    "for i in range(15000):\n",
    "    error = current_error()\n",
    "    if(current_trend == 0):\n",
    "        y_0 = y_0 - eta\n",
    "        y_3 = y_3 - eta\n",
    "        w_1 = w_1 - eta\n",
    "        w_2 = w_2 - eta\n",
    "    else:\n",
    "        y_0 = y_0 + eta\n",
    "        y_3 = y_3 + eta\n",
    "        w_1 = w_1 + eta\n",
    "        w_2 = w_2 + eta\n",
    "    new_error = current_error()\n",
    "    #print('old error:' , error)\n",
    "    #print('new error:', new_error)\n",
    "    #print('best error:', best_error)\n",
    "    #print('------------')\n",
    "    if(new_error > error):\n",
    "        # Error increased, changing trend\n",
    "        if(current_trend == 0):\n",
    "            current_trend = 1\n",
    "        else:\n",
    "            current_trend = 0\n",
    "        #print('trend changed')\n",
    "    if(new_error < best_error):\n",
    "        best_error = new_error\n",
    "        best_y_0 = y_0\n",
    "        best_y_3 = y_3\n",
    "        best_w_1 = w_1\n",
    "        best_w_2 = w_2\n",
    "\n",
    "print('Current error:' ,current_error())\n",
    "print('Best error:' , best_error)\n",
    "print('Found values after ', limit , ' iterations:')\n",
    "print('y0 = ' , y_0 )\n",
    "print('y3 = ' , y_3 )\n",
    "print('w1 = ' , w_1 )\n",
    "print('w2 = ' , w_2 )\n",
    "print('Best values for equation:')\n",
    "print('y0 = ' , best_y_0 )\n",
    "print('y3 = ' , best_y_3 )\n",
    "print('w1 = ' , best_w_1 )\n",
    "print('w2 = ' , best_w_2 )"
   ]
  },
  {
   "cell_type": "code",
   "execution_count": 24,
   "metadata": {
    "collapsed": false
   },
   "outputs": [
    {
     "data": {
      "text/plain": [
       "matrix([[ 0.88728693],\n",
       "        [ 0.27727768]])"
      ]
     },
     "execution_count": 24,
     "metadata": {},
     "output_type": "execute_result"
    }
   ],
   "source": [
    "#Now that we know optimal values for unknowns I solve the equation for optimal w1 and w2 given y0 and y3 values are correctly set.\n",
    "calculate_current_optimal_solution_matrix()"
   ]
  },
  {
   "cell_type": "code",
   "execution_count": null,
   "metadata": {
    "collapsed": true
   },
   "outputs": [],
   "source": []
  }
 ],
 "metadata": {
  "kernelspec": {
   "display_name": "Python 3",
   "language": "python",
   "name": "python3"
  },
  "language_info": {
   "codemirror_mode": {
    "name": "ipython",
    "version": 3
   },
   "file_extension": ".py",
   "mimetype": "text/x-python",
   "name": "python",
   "nbconvert_exporter": "python",
   "pygments_lexer": "ipython3",
   "version": "3.6.0"
  }
 },
 "nbformat": 4,
 "nbformat_minor": 2
}
